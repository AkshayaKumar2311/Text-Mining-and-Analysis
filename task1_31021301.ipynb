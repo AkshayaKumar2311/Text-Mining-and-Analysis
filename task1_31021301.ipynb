{
 "cells": [
  {
   "cell_type": "markdown",
   "metadata": {},
   "source": [
    "# Assignment 1- FIT5196 Data Wrangling\n",
    "\n",
    "\n",
    "# Task 1: Parsing Text Files\n",
    "\n",
    "\n",
    "## Name: Akshaya Kumar Chandrasekaran         \n",
    "\n",
    "\n",
    "## ID : 31021301\n",
    "\n"
   ]
  },
  {
   "cell_type": "markdown",
   "metadata": {},
   "source": [
    "In this section, several text files related to **COVID-19 tweetes** has been given and were asked to extract informations like created date, tweet id and the tweet text and convert in XML format. \n",
    "\n",
    "### **Given:**\n",
    "\n",
    "    + Several text files containing tweet id, created at and texts (not in the same order) with the key words “id”, “text”, and “created_at”  as attributes.\n",
    "    \n",
    "        1. id: is a 19-digit number.\n",
    "\n",
    "        2. text: is the actual tweet.\n",
    "\n",
    "        3. Created_at: is the date and time that the tweet was created.\n",
    "\n",
    "### **Asked:**\n",
    "\n",
    "    + To design a regular expression and extract the required information and store all the informations from all the files into ONE XML document. \n",
    "    \n",
    "### **Constraints Given:**\n",
    "\n",
    "    + unique \"id\" occurence are allowed.\n",
    "    \n",
    "    + Tweets only in \"English are allowed\".\n",
    "    \n",
    "    + No more than re, os and langid should be used."
   ]
  },
  {
   "cell_type": "markdown",
   "metadata": {},
   "source": [
    "# 1 Methodology to solve the problem\n",
    "\n",
    "\n",
    "## 1.1 Importing packages:\n",
    "\n",
    "Importing the allowed packages"
   ]
  },
  {
   "cell_type": "code",
   "execution_count": null,
   "metadata": {},
   "outputs": [],
   "source": [
    "#Importing the three packages \n",
    "'''\n",
    "re for regular expression\n",
    "os for directory related \n",
    "langid for identifying language of the text\n",
    "'''\n",
    "\n",
    "import re\n",
    "import os\n",
    "import langid"
   ]
  },
  {
   "cell_type": "markdown",
   "metadata": {},
   "source": [
    "Once the packages were imported, the **present working directory where the files are present is fetched using the os.getcwd()** function and is stored in a variable named **\"present_directory\"**"
   ]
  },
  {
   "cell_type": "code",
   "execution_count": null,
   "metadata": {},
   "outputs": [],
   "source": [
    "#Getting the present working directory\n",
    "present_directory = os.getcwd()\n",
    "\n",
    "#adding the string where this files are present\n",
    "#file_present_directory = present_directory + \"\\\\31021301-20200828T043706Z-001\\\\31021301\"\n",
    "#file_present_directory"
   ]
  },
  {
   "cell_type": "markdown",
   "metadata": {},
   "source": [
    "## 1.2 Reading the contents of the files\n",
    "\n",
    "\n",
    "+ Creating an empty list to store every file's content. \n",
    "\n",
    "+ the idea for creating all_files is to store the contents of each file as lists of list in each index of the list. \n",
    "\n",
    "+ Doing this way, iterating through every index and extract the required information based on the regex written and store it back in the list will be made easy through iteration purpose."
   ]
  },
  {
   "cell_type": "code",
   "execution_count": null,
   "metadata": {},
   "outputs": [],
   "source": [
    "#When reading the files one after the other,\n",
    "#Storing the contents as a list\n",
    "all_files=[]\n",
    "\n",
    "#Reading every text files present in the dictionary\n",
    "for filename in os.listdir(present_directory):\n",
    "    if filename.endswith(\".txt\"):\n",
    "        \n",
    "        #Opening the files in read only mode with UTF 8 encoding style \n",
    "        #and appending it to the list\n",
    "        with open(os.path.join(present_directory, filename), 'r', encoding='UTF-8') as f:\n",
    "            all_files.append(f.read())"
   ]
  },
  {
   "attachments": {
    "Text_regex.PNG": {
     "image/png": "[encoded data removed]"
    },
    "created_at_regex.PNG": {
     "image/png": "[encoded data removed]"
    },
    "id_regex.PNG": {
     "image/png": "[encoded data removed]"
    }
   },
   "cell_type": "markdown",
   "metadata": {},
   "source": [
    "## 1.3 Defining Regex:\n",
    "\n",
    "+ Opened one of the text files and noted down one tweet from the text file to design a regular expression.\n",
    "\n",
    "#### 1.3.1 Sample 1 to create regular expression\n",
    "\n",
    "{\"data\":[{\"created_at\":\"2020-04-18T04:09:25.000Z\",\"id\":\"1251362171998498816\",\"text\":\"If we do not follow the lockdown period sincerely, as a result of the COVID-19 infection, India as a nation is bound to fall back 21 years.\\nMaking the right choice is our collective responsibility at this moment.https://t.co/oGhKLLuKxO\"}\n",
    "\n",
    "\n",
    "+ In the above sample text, the attribute **created_at is given at the first instance, id at the second instance and text at the third instance.**\n",
    "\n",
    "So designed a regular expression to extract created_at, id and text as follows:\n",
    "\n",
    "\n",
    "+  **Attribute id ==>  r'\"id\":\"(\\d{19})\",\"text\"'** \n",
    "            \n",
    "    + Meaning, start matching if the text contains id inside quotes followed by a :(colon), then capture only the digits when the length of the digits is 19 inside quotes, and stop catpuring. The text must end with the attribute ,\"text\"\n",
    "                \n",
    "                \n",
    "+ **Attribute created_at ==> r'\"created_at\":\"(\\d{4}-\\d{2}-\\d{2}T\\d{2}:\\d{2}:\\d{2}\\.000Z)\",\"id\"'**\n",
    "        \n",
    "    + Meaning, start matching if the text contains created_at inside quotes followed by a :(colon), then capture only when there are 4 digits followed by a -(dash) followed by 2 digits followed by a -(dash)followed by 2 digits followed by a -(dash) with a T and followed by 2 digits followed by a :(colon) followed by 2 digits followed by a :(colon) followed by 2 digits followed by a :(colon) and \\.000Z at the end. The text must end with the attribute ,\"id\"\n",
    "                \n",
    "                \n",
    "+ **Attribute text ==> r'\"text\":\"(.*?)\"**\n",
    "        \n",
    "    + Meaning, start matching if the text contains text inside quotes followed by a :(colon), then capture everything inside a double quotes. \n",
    "                \n",
    "                \n",
    "When ran the code with the above created expressions, not all texts were captured since the length of the list was too small than expected. \n",
    "\n",
    "So opened a second file and saw the texts. It was as follows. \n",
    "\n",
    "#### 1.3.2 Sample 2 to create regular expression\n",
    "\n",
    "{\"created_at\":\"2020-05-07T12:05:29.000Z\",\"text\":\"¡The Kntonpaper está disponible! https://t.co/MGPempq5FY Gracias a @jmrf61 @cristinamzea @aldocruz_90 #covid19 #vacuna\",\"id\":\"1258367345367625728\"},\n",
    "\n",
    "Then noticed that the order of attributes change for every text file. So changed the regular expression to a generic one as follows:\n",
    "\n",
    "\n",
    "+ **Attribute id ==>  r'\"id\":\"(\\d{19})\"'**\n",
    "\n",
    "    + **Match in text for the word id inside quotes and start capturing when there are 19 digits inside the quotes** which can be depicted from the below image. \n",
    "\n",
    "![id_regex.PNG](attachment:id_regex.PNG)\n",
    "\n",
    "\n",
    "\n",
    "+ **Attribute created_at ==> r'\"created_at\":\"(.{4}-.{2}-.{2})'**\n",
    "    \n",
    "    + **In the sample XML file, only the date is printed and not the time. So match in text for the word created at inside the quotes and start capturing any string that is of length 4 followed by a hyphen then two followed by an hyphen and then two** which can be depicted from the below image.\n",
    "\n",
    "![created_at_regex.PNG](attachment:created_at_regex.PNG)\n",
    "\n",
    "\n",
    "\n",
    "Double quotes are not provided at the end because, the created_at attribute still consists of the time which is not being captured.\n",
    "\n",
    "\n",
    "+ **For attribute Text ==> r'\"text\":\"((?:[^\"\\\\]|\\\\.)*)\"'**\n",
    "\n",
    "    +  **Match in text for the word text inside the quotes and start capturing for any characters. A non capturing group has also been included to not capture a \" or a \\ and capturing of words are done insude double quotes.** which can be depicted from the below image.\n",
    "\n",
    "![Text_regex.PNG](attachment:Text_regex.PNG)\n"
   ]
  },
  {
   "cell_type": "markdown",
   "metadata": {},
   "source": [
    "## 1.4 Applying Regex on the files:\n",
    "\n",
    "+ Once the regex are designed, for each index in the all_files, there will be a list which containts the contents of the text file. **Regular expression is applied on each of the index** and the results of the **extracted text is stored as a list**.\n",
    "\n",
    "+ **Three different lists are created to store id, created_at and text**."
   ]
  },
  {
   "cell_type": "code",
   "execution_count": null,
   "metadata": {},
   "outputs": [],
   "source": [
    "'''\n",
    "apply_regex is an user defined function that takes in a list as an argument.\n",
    "This functions is for applying regular expression syntax on the list of lists(each file)\n",
    "and extract the id, text and created at alone seperately and storing each of them \n",
    "in an individual list and returns the individual list(id_alone, text_alone and created_alone)\n",
    "'''\n",
    "\n",
    "#User defined function\n",
    "def apply_regex(all_files):\n",
    "    \n",
    "    #declaring regular expression for extractig text alone\n",
    "    test_alone_regex = r'\"text\":\"((?:[^\"\\\\]|\\\\.)*)\"'  \n",
    "    \n",
    "    #declaring regular expression for extractig id alone\n",
    "    id_regex = r'\"id\":\"(\\d{19})\"'\n",
    "    \n",
    "    #declaring regular expression for extractig created_at alone\n",
    "    created_regex =r'\"created_at\":\"(.{4}-.{2}-.{2})'\n",
    "    \n",
    "    #initialising variables\n",
    "    text_alone = []\n",
    "    id_alone = []\n",
    "    created_alone =  []\n",
    "    \n",
    "    #Iteratig through the list to apply regular expression at each index and \n",
    "    #extract and store the information that is reguired.\n",
    "    for i in range(len(all_files)):\n",
    "        text_alone.append(re.findall(test_alone_regex,all_files[i]))\n",
    "        id_alone.append(re.findall(id_regex,all_files[i]))\n",
    "        created_alone.append(re.findall(created_regex,all_files[i]))\n",
    "    \n",
    "    #returing the list that containts list of lists.\n",
    "    return text_alone,id_alone,created_alone"
   ]
  },
  {
   "cell_type": "code",
   "execution_count": null,
   "metadata": {},
   "outputs": [],
   "source": [
    "#Calling the user defined function apply_regex that returns \n",
    "#list of lists with id,text and created alone seperately.\n",
    "text_alone,id_alone,created_alone=apply_regex(all_files)"
   ]
  },
  {
   "cell_type": "markdown",
   "metadata": {},
   "source": [
    "## 1.5 Emoji and XML standards handling:\n",
    "\n",
    "+ Once the text alone list is created, observed **emoticons were in the raw format** (i.e) they were in the unicodes. \n",
    "\n",
    "+ So for each index in the text alone, to covert the emoticons to it's original image format, the sentenses are passed through the encoding and decoding function.\n",
    "\n",
    "+ **surrogatepass** is given to handle when there are continuous emoticons unicode to identify them and then decode them to the image format.\n",
    "\n",
    "+ XML coding standards are taken care by using the **replace function for the appropriate symbols** as explained below. This step is done because, when tried to generate the XML document, the XML reserved characters were not decoded porperly. To avoid this inconsistency in the tweet texts, replaced the reserved XML characters through hardcoding."
   ]
  },
  {
   "cell_type": "code",
   "execution_count": null,
   "metadata": {},
   "outputs": [],
   "source": [
    "'''\n",
    "rectify_smilie is an user defined function that takes in the list\n",
    "of lists for text_alone created above and then convert the encoding \n",
    "of smilies and replace it with the actual images of smilies\n",
    "and store it back in the actual text list itself.\n",
    "It also replaces & with &amp, ' with &apos, > with &gt , < with &lt \" with &quot  to actual xml encoding language.\n",
    "and then return the list of lists of text\n",
    "'''\n",
    "\n",
    "#User defined function\n",
    "def rectify_smilie(text_alone):\n",
    "    \n",
    "    #Iterating through elements of list\n",
    "    for i in range(len(text_alone)):\n",
    "        \n",
    "        #iterating through the each elements in ith index\n",
    "        for j in range(len(text_alone[i])):\n",
    "            \n",
    "            #Encoding (uft-16) is done for each text line \n",
    "            text_alone[i][j] = eval('\"'+text_alone[i][j]+'\"').encode('utf-16', 'surrogatepass').decode('utf-16')\n",
    "            \n",
    "            #Replaces & with &amp in the text to comply with xml coding \n",
    "            text_alone[i][j]=text_alone[i][j].replace('&','&amp;')\n",
    "            \n",
    "            #Replaces ' with &apos in the text to comply with xml coding \n",
    "            text_alone[i][j]=text_alone[i][j].replace(\"'\",\"&apos;\")\n",
    "            \n",
    "            #Replaces > with &gt in the text to comply with xml coding \n",
    "            text_alone[i][j]=text_alone[i][j].replace('>','&gt;')\n",
    "            \n",
    "            #Replaces < with &lt in the text to comply with xml coding \n",
    "            text_alone[i][j]=text_alone[i][j].replace('<','&lt;')\n",
    "            \n",
    "            #Replaces \" with &quot in the text to comply with xml coding \n",
    "            text_alone[i][j]=text_alone[i][j].replace('\"','&quot;')\n",
    "            \n",
    "    #Returning the list of lists with images of emojies.\n",
    "    return text_alone"
   ]
  },
  {
   "cell_type": "code",
   "execution_count": null,
   "metadata": {},
   "outputs": [],
   "source": [
    "#Calling the user defined function rectify_smilie that returns \n",
    "#list of lists with pictures of emojies instead of the encoded values of that emojis.\n",
    "text_alone = rectify_smilie(text_alone)"
   ]
  },
  {
   "cell_type": "markdown",
   "metadata": {},
   "source": [
    "## 1.6 Collating to dictionary type:\n",
    "\n",
    "+ Since **XML for each date with it's corresponding tweet id and it's text needs to be created, using dictionary type** would be more appropriate with **date as the key and tweet id and text as the value**.\n",
    "\n",
    "+ Also, **using the lang id package, language test is done to filter out only tweets in english language**.\n",
    "\n",
    "+ All these **tasks has been handlded in this section** because doing these steps in the **previous task would result in un-even length of the list(text_alone,id_alone and created_alone) making it difficult to iterate** as well as to create XML document. "
   ]
  },
  {
   "cell_type": "code",
   "execution_count": null,
   "metadata": {},
   "outputs": [],
   "source": [
    "'''\n",
    "collate_tweets is an user defined function that takes in three lists as arguments. \n",
    "text_alone -> list of lists containing textual information alone about the tweets\n",
    "id_alone -> list of lists containing tweet id alone of the tweets\n",
    "created_alone -> list of lists containing the created information about the tweets\n",
    "\n",
    "This function will put in together all the values into a key value pair. \n",
    "In this function, duplicate ids are eliminated, only the english language is filtered out.\n",
    "if the criteria is met, a key as the created day and values as tweets created on those particular day\n",
    "is created.\n",
    "\n",
    "This function return a dictionary\n",
    "'''\n",
    "\n",
    "#user defined function \n",
    "def collate_tweets(text_alone,id_alone,created_alone):\n",
    "    \n",
    "    #initialising empty dictionary\n",
    "    collate_dict = {}\n",
    "    \n",
    "    #collection the keys alone\n",
    "    present_keys = collate_dict.keys()\n",
    "    \n",
    "    #For each index in the text alone list\n",
    "    for i in range(len(text_alone)):\n",
    "        \n",
    "        #for each index at the text alone's ith index\n",
    "        for j in range(len(text_alone[i])):\n",
    "            \n",
    "            #checking if the language is english, if true proceed\n",
    "            if(langid.classify(text_alone[i][j])[0]=='en'):\n",
    "                \n",
    "                    #If the key(i.e) the created at already exists, \n",
    "                    if(created_alone[i][j] in present_keys):\n",
    "                        \n",
    "                        #if the tweet id is not present (to elimitate duplicate keys)\n",
    "                        if not any(id_alone[i][j] in item for item in created_alone[i][j][0]):\n",
    "                            \n",
    "                            #append the tweet id and the it's corresponding text to the key \n",
    "                            collate_dict[created_alone[i][j]].append([id_alone[i][j],text_alone[i][j]])\n",
    "                    else:\n",
    "                        \n",
    "                        #else, create a new key in the dictionary if the key does not exists \n",
    "                        collate_dict[created_alone[i][j]] = [[id_alone[i][j]]]\n",
    "                        collate_dict[created_alone[i][j]][0].append(text_alone[i][j])\n",
    "    \n",
    "    #return the dictionary with key being the created at and \n",
    "    #values being its correspondig id and tweets text created that day\n",
    "    return collate_dict"
   ]
  },
  {
   "cell_type": "code",
   "execution_count": null,
   "metadata": {},
   "outputs": [],
   "source": [
    "#Calling the user defined function collate_tweets that returns \n",
    "#a dictionary with key being the created at and \n",
    "#values being its correspondig id and tweets text created that day.\n",
    "collated_dict = collate_tweets(text_alone,id_alone,created_alone)"
   ]
  },
  {
   "cell_type": "markdown",
   "metadata": {},
   "source": [
    "## 1.7 Generating XML document\n",
    "\n",
    "+ With the above created dictionary, iterating through the keys(each date) a **tweets date tag is created** and for the length of each day(i.e) number of tweets in each day, a **tweet id tag is created, with the tweet text inbetween them**.\n",
    "\n",
    "+ XML is of encoding UTF-8 format with xml version 1. \n",
    "\n",
    "+ XML format from the same xml file is as follows."
   ]
  },
  {
   "cell_type": "code",
   "execution_count": null,
   "metadata": {},
   "outputs": [],
   "source": [
    "\"\"\"\n",
    "<?xml version=\"1.0\" encoding=\"UTF-8\"?>\n",
    "<data>\n",
    "<tweets date=\"DATE INSIDE QUOTES\">\n",
    "<tweet id=\"TWEET ID INSIDE QUOTES\">TWEET TEXT WITHOUT QUOTES</tweet>\n",
    "</tweets>\n",
    "</data>\n",
    "\"\"\""
   ]
  },
  {
   "cell_type": "code",
   "execution_count": null,
   "metadata": {},
   "outputs": [],
   "source": [
    "'''\n",
    "generate_xml is an user defined function that takes in the dictionary as input. \n",
    "\n",
    "For each key, its values are being written in an xml format.\n",
    "'''\n",
    "\n",
    "#user defined function\n",
    "def generate_xml(collated_dict):\n",
    "    \n",
    "    #Opening a xml document\n",
    "    xml_file = open('31021301.xml', 'w',encoding=\"utf-8\")\n",
    "    \n",
    "    #writing into the file\n",
    "    xml_file.write('<?xml version=\"1.0\" encoding=\"UTF-8\"?>\\n')\n",
    "    xml_file.write('<data>\\n')\n",
    "    \n",
    "    #with the dictonary created above, \n",
    "    #for each key (i.e) date writing its values (i.e) tweet id and tweets\n",
    "    for keys,values in collated_dict.items():\n",
    "        xml_file.write('<tweets date=\"' + keys + '\">\\n')\n",
    "        for m in range(len(collated_dict[keys])):\n",
    "            xml_file.write('<tweet id=\"' + collated_dict[keys][m][0] + '\">'+collated_dict[keys][m][1]+'</tweet>\\n')\n",
    "        xml_file.write('</tweets>\\n')\n",
    "\n",
    "    #ending the data tag\n",
    "    xml_file.write('</data>')\n",
    "    \n",
    "    #Closing the xml file\n",
    "    xml_file.close()"
   ]
  },
  {
   "cell_type": "code",
   "execution_count": null,
   "metadata": {},
   "outputs": [],
   "source": [
    "#calling the function generate_xml to generate xml file\n",
    "generate_xml(collated_dict)"
   ]
  },
  {
   "cell_type": "markdown",
   "metadata": {},
   "source": [
    "## 1.8 Challenges faced:\n",
    "\n",
    "+ Converting the emoticons to image format.\n",
    "+ Allow only the unique ids when generating dictionary.\n",
    "\n",
    "## 1.9 References:\n",
    "\n",
    "1. 2020 Python Software Foundation (2018). langid 1.1dev. Retrived from :\n",
    "https://pypi.org/project/langid/1.1dev/\n",
    "\n",
    "2. Jonny Fox(2017).Regex tutorial — A quick cheatsheet by examples. Retrived from :\n",
    "https://medium.com/factory-mind/regex-tutorial-a-simple-cheatsheet-by-examples-649dc1c3f285\n",
    "\n",
    "3.  Jeff Avallone - Images for Regex used retrived from:\n",
    "https://regexper.com/"
   ]
  }
 ],
 "metadata": {
  "kernelspec": {
   "display_name": "Python 3",
   "language": "python",
   "name": "python3"
  },
  "language_info": {
   "codemirror_mode": {
    "name": "ipython",
    "version": 3
   },
   "file_extension": ".py",
   "mimetype": "text/x-python",
   "name": "python",
   "nbconvert_exporter": "python",
   "pygments_lexer": "ipython3",
   "version": "3.8.3"
  }
 },
 "nbformat": 4,
 "nbformat_minor": 4
}
